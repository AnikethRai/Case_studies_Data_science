{
 "cells": [
  {
   "cell_type": "markdown",
   "metadata": {},
   "source": [
    "### Exploring Games Datasheet and analyzing the top games in each console\n",
    "#### Analyzed by Aniketh Rai\n",
    "### Description:\n",
    "This notebook consists the analyzing of games datasheet and finding out the Top 5 games in each individual console and also we can retrieve the wanted console top 5 games or top 5 worst games accroding to the input we give to the function. For instance, function(args) where, args = Console , Score. Consoles can be found in console section and Score also can be found in the same section. In finding the top 5 games or the particular score games you have to alter the function accordingly."
   ]
  },
  {
   "cell_type": "code",
   "execution_count": 56,
   "metadata": {},
   "outputs": [],
   "source": [
    "#Libraries\n",
    "import pandas as pd\n",
    "import seaborn as sns\n",
    "import matplotlib.pyplot as plt"
   ]
  },
  {
   "cell_type": "code",
   "execution_count": 57,
   "metadata": {},
   "outputs": [
    {
     "data": {
      "text/html": [
       "<div>\n",
       "<style scoped>\n",
       "    .dataframe tbody tr th:only-of-type {\n",
       "        vertical-align: middle;\n",
       "    }\n",
       "\n",
       "    .dataframe tbody tr th {\n",
       "        vertical-align: top;\n",
       "    }\n",
       "\n",
       "    .dataframe thead th {\n",
       "        text-align: right;\n",
       "    }\n",
       "</style>\n",
       "<table border=\"1\" class=\"dataframe\">\n",
       "  <thead>\n",
       "    <tr style=\"text-align: right;\">\n",
       "      <th></th>\n",
       "      <th>Console</th>\n",
       "      <th>GameName</th>\n",
       "      <th>Review</th>\n",
       "      <th>Score</th>\n",
       "    </tr>\n",
       "  </thead>\n",
       "  <tbody>\n",
       "    <tr>\n",
       "      <th>0</th>\n",
       "      <td>PC</td>\n",
       "      <td>Baldur's Gate 3 Early Access Review</td>\n",
       "      <td>Early Access</td>\n",
       "      <td>6</td>\n",
       "    </tr>\n",
       "    <tr>\n",
       "      <th>1</th>\n",
       "      <td>NS</td>\n",
       "      <td>Control: Ultimate Edition Cloud Version Review</td>\n",
       "      <td>Good</td>\n",
       "      <td>7</td>\n",
       "    </tr>\n",
       "    <tr>\n",
       "      <th>2</th>\n",
       "      <td>XONE, PC, PS4</td>\n",
       "      <td>Doom Eternal: The Ancient Gods Part 1 Review</td>\n",
       "      <td>Good</td>\n",
       "      <td>7</td>\n",
       "    </tr>\n",
       "    <tr>\n",
       "      <th>3</th>\n",
       "      <td>XONE, PC, PS4</td>\n",
       "      <td>Watch Dogs: Legion Review</td>\n",
       "      <td>Great</td>\n",
       "      <td>8</td>\n",
       "    </tr>\n",
       "    <tr>\n",
       "      <th>4</th>\n",
       "      <td>PC</td>\n",
       "      <td>Ring Of Pain Review</td>\n",
       "      <td>Great</td>\n",
       "      <td>8</td>\n",
       "    </tr>\n",
       "    <tr>\n",
       "      <th>...</th>\n",
       "      <td>...</td>\n",
       "      <td>...</td>\n",
       "      <td>...</td>\n",
       "      <td>...</td>\n",
       "    </tr>\n",
       "    <tr>\n",
       "      <th>14796</th>\n",
       "      <td>PC</td>\n",
       "      <td>Doom II Review</td>\n",
       "      <td>Great</td>\n",
       "      <td>8</td>\n",
       "    </tr>\n",
       "    <tr>\n",
       "      <th>14797</th>\n",
       "      <td>PC</td>\n",
       "      <td>Dungeon Master II: The Legend of Skullkeep Review</td>\n",
       "      <td>Mediocre</td>\n",
       "      <td>5</td>\n",
       "    </tr>\n",
       "    <tr>\n",
       "      <th>14798</th>\n",
       "      <td>PC</td>\n",
       "      <td>Endorfun Review</td>\n",
       "      <td>Good</td>\n",
       "      <td>7</td>\n",
       "    </tr>\n",
       "    <tr>\n",
       "      <th>14799</th>\n",
       "      <td>PC</td>\n",
       "      <td>FIFA Soccer 96 Review</td>\n",
       "      <td>Superb</td>\n",
       "      <td>9</td>\n",
       "    </tr>\n",
       "    <tr>\n",
       "      <th>14800</th>\n",
       "      <td>PC</td>\n",
       "      <td>Full Throttle Review</td>\n",
       "      <td>Great</td>\n",
       "      <td>8</td>\n",
       "    </tr>\n",
       "  </tbody>\n",
       "</table>\n",
       "<p>14801 rows × 4 columns</p>\n",
       "</div>"
      ],
      "text/plain": [
       "             Console                                           GameName  \\\n",
       "0                 PC                Baldur's Gate 3 Early Access Review   \n",
       "1                 NS     Control: Ultimate Edition Cloud Version Review   \n",
       "2      XONE, PC, PS4       Doom Eternal: The Ancient Gods Part 1 Review   \n",
       "3      XONE, PC, PS4                          Watch Dogs: Legion Review   \n",
       "4                 PC                                Ring Of Pain Review   \n",
       "...              ...                                                ...   \n",
       "14796             PC                                     Doom II Review   \n",
       "14797             PC  Dungeon Master II: The Legend of Skullkeep Review   \n",
       "14798             PC                                    Endorfun Review   \n",
       "14799             PC                              FIFA Soccer 96 Review   \n",
       "14800             PC                               Full Throttle Review   \n",
       "\n",
       "             Review  Score  \n",
       "0      Early Access      6  \n",
       "1              Good      7  \n",
       "2              Good      7  \n",
       "3             Great      8  \n",
       "4             Great      8  \n",
       "...             ...    ...  \n",
       "14796         Great      8  \n",
       "14797      Mediocre      5  \n",
       "14798          Good      7  \n",
       "14799        Superb      9  \n",
       "14800         Great      8  \n",
       "\n",
       "[14801 rows x 4 columns]"
      ]
     },
     "execution_count": 57,
     "metadata": {},
     "output_type": "execute_result"
    }
   ],
   "source": [
    "#Retrieving data from dataset Games.csv\n",
    "games_df = pd.read_csv('./Games.csv')\n",
    "games_df"
   ]
  },
  {
   "cell_type": "code",
   "execution_count": 58,
   "metadata": {},
   "outputs": [
    {
     "name": "stdout",
     "output_type": "stream",
     "text": [
      "         Console                                        GameName  \\\n",
      "0             PC             Baldur's Gate 3 Early Access Review   \n",
      "1             NS  Control: Ultimate Edition Cloud Version Review   \n",
      "2  XONE, PC, PS4    Doom Eternal: The Ancient Gods Part 1 Review   \n",
      "3  XONE, PC, PS4                       Watch Dogs: Legion Review   \n",
      "4             PC                             Ring Of Pain Review   \n",
      "\n",
      "         Review  Score  \n",
      "0  Early Access      6  \n",
      "1          Good      7  \n",
      "2          Good      7  \n",
      "3         Great      8  \n",
      "4         Great      8  \n",
      "<class 'pandas.core.frame.DataFrame'>\n",
      "RangeIndex: 14801 entries, 0 to 14800\n",
      "Data columns (total 4 columns):\n",
      " #   Column    Non-Null Count  Dtype \n",
      "---  ------    --------------  ----- \n",
      " 0   Console   14801 non-null  object\n",
      " 1   GameName  14801 non-null  object\n",
      " 2   Review    14801 non-null  object\n",
      " 3   Score     14801 non-null  int64 \n",
      "dtypes: int64(1), object(3)\n",
      "memory usage: 462.7+ KB\n",
      "None\n",
      "              Score\n",
      "count  14801.000000\n",
      "mean       6.429498\n",
      "std        1.611753\n",
      "min        1.000000\n",
      "25%        6.000000\n",
      "50%        7.000000\n",
      "75%        8.000000\n",
      "max        9.000000\n"
     ]
    }
   ],
   "source": [
    "# Display the first few rows of the DataFrame\n",
    "print(games_df.head())\n",
    "\n",
    "# Get information about the DataFrame, including data types and missing values\n",
    "print(games_df.info())\n",
    "\n",
    "# Summary statistics of numerical columns\n",
    "print(games_df.describe())\n"
   ]
  },
  {
   "cell_type": "code",
   "execution_count": 59,
   "metadata": {},
   "outputs": [
    {
     "name": "stdout",
     "output_type": "stream",
     "text": [
      "Console     0\n",
      "GameName    0\n",
      "Review      0\n",
      "Score       0\n",
      "dtype: int64\n"
     ]
    }
   ],
   "source": [
    "# Check for missing values\n",
    "print(games_df.isnull().sum())\n"
   ]
  },
  {
   "cell_type": "code",
   "execution_count": 60,
   "metadata": {},
   "outputs": [
    {
     "name": "stdout",
     "output_type": "stream",
     "text": [
      "Type_of_Reviews:\n",
      "['Early Access' 'Good' 'Great' 'Superb' 'Fair' 'Terrible' 'Mediocre' 'Bad'\n",
      " 'Poor' 'Essential' 'Abysmal']\n",
      "Type_of_consoles:\n",
      "['PC' 'NS' 'XONE, PC, PS4' 'PC, XONE, PS4' 'PC, NS' 'XONE, PS4' 'PC, PS4'\n",
      " 'PC, XONE, PS4, NS' 'NS, NS' 'PS4' 'PC, PS4, XONE, NS' 'XONE, PC'\n",
      " 'PS4, XONE' 'PC, PS4, NS' 'PS4, PC, XONE' 'IOS' 'PC, XONE' 'PC, IOS'\n",
      " 'XONE' 'PC, XONE, NS' 'PC, PS4, NS, XONE' 'WIIU' 'PC, PS4, XONE'\n",
      " 'PC, NS, XONE, PS4' 'LNX, MAC, AND, PC' 'PC, NS, IOS' 'PS4, XONE, PC'\n",
      " 'PS4, PS4' 'AND, IOS' 'PC, PS4, PS4' 'IOS, PC, NS' 'NS, PS4' 'PS4, PC'\n",
      " 'NS, PC' '3DS' 'XONE, PC, NS' 'PS4, XONE, NS, PC' 'PS4, PC, XONE, NS'\n",
      " 'XONE, NS' 'PC, MAC' 'NS, XONE, PS4' 'PS4, XONE, PC, NS' 'XONE, PS3, NS'\n",
      " 'XONE, PS4, NS' 'PC, MAC, PS4, NS' 'TG16' 'PS3, VITA, PS4'\n",
      " 'NS, PS4, XONE, PC' 'PS4, NS, XONE, PC' 'XONE, PS4, PC'\n",
      " 'XONE, NS, PC, PS4' 'PS4, NS' 'PC, PS3, X360' 'WIIU, NS' 'PS4, PC, NS'\n",
      " 'PS4, VITA' '3DS, 3DS' 'XONE, PC, XONE' 'PS4, XONE, PC, XONE, PC, PS4'\n",
      " 'SNES' 'PS4, NS, XONE' 'PC, PS4, PS3, X360, XONE' 'XBOX'\n",
      " 'PC, NS, PS4, XONE' 'PS3, PS4' 'PS4, PC, VITA' 'X360' 'PC, PS4, VITA'\n",
      " 'IOS, AND' 'MAC' 'VITA' 'PS3' 'PC, X360, XONE, PS4, PS3' 'PS4, WIIU'\n",
      " 'XONE, X360, PS3, PS4, PC' 'AND' 'PS3, X360' 'X360, PS3' 'PS3, PS3' 'PS2'\n",
      " 'PC, PC' 'PC, X360, PS3' 'WIIU, 3DS' 'WII' 'N64' 'NGE' 'PS3, PC'\n",
      " 'X360, PS3, PC' 'PC, PS3, X360, WIIU, PS4, XONE' 'PS3, PS4, VITA'\n",
      " 'PS4, VITA, PS3' 'PC, PS4, PS3, VITA' 'PSP' 'PC, PC, PC' 'VITA, VITA'\n",
      " 'WIIU, 3DS, PC' 'VITA, PS4' 'X360, XONE' 'X360, PC, PS3' 'XONE, X360, PC'\n",
      " 'PS3, VITA' 'X360, PC' 'PS2, XBOX' 'MOBI' 'ARC' 'PS2, PS2'\n",
      " 'X360, PS4, XONE' 'PC, PS3, VITA' 'GBC' 'PS3, PC, X360' 'PS3, X360, PS4'\n",
      " 'XONE, X360, PS3, PS4' 'X360, PS3, PC, PS4, XONE' 'IOS, PC'\n",
      " 'PS4, X360, PS3, XONE' 'X360, PS3, XONE, PS4' 'VITA, PS3, PS4'\n",
      " 'PS3, X360, PC' 'WIIU, WII, PS3, X360' 'WEB' '3DS, WIIU' 'SAT' 'GBA' 'DS'\n",
      " 'DC' 'BB' 'WOS' 'WINM' 'PS' 'NES' 'GEN' 'NEO' 'TCD' 'FDS' 'GC' 'NGPC'\n",
      " 'ZOD' 'GB' 'NGP']\n",
      "Type_of_Score:\n",
      "[6 7 8 9 2 5 3 4 1]\n"
     ]
    }
   ],
   "source": [
    "#We find that there are no missing values\n",
    "# Now we find out the different consoles and try to breakdown into each console games.\n",
    "Type_of_Reviews = games_df['Review'].unique()\n",
    "print('Type_of_Reviews:')\n",
    "print(Type_of_Reviews)\n",
    "Type_of_consoles = games_df['Console'].unique()\n",
    "print('Type_of_consoles:')\n",
    "print(Type_of_consoles)\n",
    "Type_of_Score = games_df['Score'].unique()\n",
    "print('Type_of_Score:')\n",
    "print(Type_of_Score)"
   ]
  },
  {
   "cell_type": "code",
   "execution_count": 61,
   "metadata": {},
   "outputs": [
    {
     "data": {
      "text/plain": [
       "PC                   4182\n",
       "PS2                  1382\n",
       "X360                 1317\n",
       "PS                    932\n",
       "PS3                   929\n",
       "                     ... \n",
       "XONE, NS, PC, PS4       1\n",
       "PS2, XBOX               1\n",
       "PS4, NS, XONE, PC       1\n",
       "PS2, PS2                1\n",
       "NGP                     1\n",
       "Name: Console, Length: 139, dtype: int64"
      ]
     },
     "execution_count": 61,
     "metadata": {},
     "output_type": "execute_result"
    }
   ],
   "source": [
    "# Finding unique consoles and rest of the consoles.\n",
    "games_df['Console'].value_counts()"
   ]
  },
  {
   "cell_type": "code",
   "execution_count": 62,
   "metadata": {},
   "outputs": [],
   "source": [
    "# Top 5 Games in Every console\n",
    "# Functing to find out the top 5 games of each console\n",
    "\n",
    "def top_5_games(console,score):\n",
    "    games = games_df[games_df.Console == console]\n",
    "    games_above_average  = games[games.Score >= score]\n",
    "    T5 = games_above_average.sort_values(by='Score' , ascending = False).head()\n",
    "    T5.reset_index(drop = True , inplace = True)\n",
    "    T5.index = range(1,5+1)\n",
    "    return T5"
   ]
  },
  {
   "cell_type": "code",
   "execution_count": 63,
   "metadata": {},
   "outputs": [
    {
     "name": "stdout",
     "output_type": "stream",
     "text": [
      "1                   Max Payne 3 Review\n",
      "2    The Curse of Monkey Island Review\n",
      "3          Legend of Grimrock 2 Review\n",
      "4                Triple Play 97 Review\n",
      "5           The Talos Principle Review\n",
      "Name: GameName, dtype: object\n"
     ]
    }
   ],
   "source": [
    "#PC\n",
    "T5_PC = top_5_games('PC',7)\n",
    "print(T5_PC['GameName'])"
   ]
  },
  {
   "cell_type": "code",
   "execution_count": 64,
   "metadata": {},
   "outputs": [
    {
     "name": "stdout",
     "output_type": "stream",
     "text": [
      "1                      Ori and the Blind Forest Review\n",
      "2                              NHL 20 Review - Smashed\n",
      "3           Devil May Cry 5 Review - From Zero To Nero\n",
      "4                            Forza Motorsport 5 Review\n",
      "5    The Walking Dead: Michonne - Episode 2: Give N...\n",
      "Name: GameName, dtype: object\n"
     ]
    }
   ],
   "source": [
    "#XBOX ~ XONE\n",
    "T5_Xone = top_5_games('XONE',7)\n",
    "print(T5_Xone['GameName'])"
   ]
  },
  {
   "cell_type": "code",
   "execution_count": 65,
   "metadata": {},
   "outputs": [
    {
     "name": "stdout",
     "output_type": "stream",
     "text": [
      "1              Final Fantasy 12: The Zodiac Age Review\n",
      "2    Persona 3: Dancing In Moonlight Review - A Spo...\n",
      "3     No Man's Sky Beyond Review - Reach For The Stars\n",
      "4                                   The Witness Review\n",
      "5        eFootball PES 2020 Review - A Winning Formula\n",
      "Name: GameName, dtype: object\n"
     ]
    }
   ],
   "source": [
    "#PS4\n",
    "T5_Ps4 = top_5_games('PS4',7)\n",
    "print(T5_Ps4['GameName'])\n"
   ]
  },
  {
   "cell_type": "code",
   "execution_count": 66,
   "metadata": {},
   "outputs": [
    {
     "name": "stdout",
     "output_type": "stream",
     "text": [
      "1                          Portal 2 Review\n",
      "2                        Dark Souls Review\n",
      "3    Uncharted 3: Drake's Deception Review\n",
      "4                      Resistance 2 Review\n",
      "5                        Dead Space Review\n",
      "Name: GameName, dtype: object\n"
     ]
    }
   ],
   "source": [
    "#PS3\n",
    "T5_Ps3 = top_5_games('PS3',7)\n",
    "print(T5_Ps3['GameName'])"
   ]
  },
  {
   "cell_type": "code",
   "execution_count": 67,
   "metadata": {},
   "outputs": [
    {
     "name": "stdout",
     "output_type": "stream",
     "text": [
      "1    Tekken Tag Tournament Review\n",
      "2                  NFL 2K2 Review\n",
      "3            NBA Street V3 Review\n",
      "4        Final Fantasy XII Review\n",
      "5                 Tekken 5 Review\n",
      "Name: GameName, dtype: object\n"
     ]
    }
   ],
   "source": [
    "#PS2\n",
    "T5_Ps2 = top_5_games('PS2',7)\n",
    "print(T5_Ps2['GameName'])"
   ]
  },
  {
   "cell_type": "code",
   "execution_count": 68,
   "metadata": {},
   "outputs": [
    {
     "name": "stdout",
     "output_type": "stream",
     "text": [
      "1                      Die Hard Trilogy Review\n",
      "2                               Grandia Review\n",
      "3                     Final Fantasy VII Review\n",
      "4    Metal Gear Solid Integral (Import) Review\n",
      "5                         Grind Session Review\n",
      "Name: GameName, dtype: object\n"
     ]
    }
   ],
   "source": [
    "#PS\n",
    "T5_PS = top_5_games('PS',7)\n",
    "print(T5_PS['GameName'])"
   ]
  },
  {
   "cell_type": "markdown",
   "metadata": {},
   "source": [
    "<span style=\"color:red\">Note! You can find as many consoles games according to datasheet</span>\n"
   ]
  }
 ],
 "metadata": {
  "kernelspec": {
   "display_name": "Python 3",
   "language": "python",
   "name": "python3"
  },
  "language_info": {
   "codemirror_mode": {
    "name": "ipython",
    "version": 3
   },
   "file_extension": ".py",
   "mimetype": "text/x-python",
   "name": "python",
   "nbconvert_exporter": "python",
   "pygments_lexer": "ipython3",
   "version": "3.10.1"
  },
  "orig_nbformat": 4
 },
 "nbformat": 4,
 "nbformat_minor": 2
}
