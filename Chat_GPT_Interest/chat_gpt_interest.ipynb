{
 "cells": [
  {
   "cell_type": "markdown",
   "metadata": {},
   "source": [
    "# Data Analysis Project: Exploring Chat GPT Interest Over Worldwide Countries\n",
    "\n",
    "## Introduction\n",
    "\n",
    "Welcome to the data analysis project: Exploring Chat GPT Interest Over Worldwide Countries . In this notebook, we will delve into a short analysis of the given dataset. Our goal is to visualize the small data and provide the bar graph, average interest and value counts.\n",
    "\n",
    "## Dataset Overview\n",
    "\n",
    "### Source\n",
    "\n",
    "https://trends.google.com/trends/explore?q=chatgpt\n",
    "\n",
    "### Structure\n",
    "\n",
    "The dataset comprises 250 rows and 2 columns. Each column represents a specific aspect of the data, such as Country and Chat GPT interest over a period of 12 months (September 29 2022 - September 29 2023).\n",
    "\n",
    "### Features\n",
    "\n",
    "Here are some key features of the dataset:\n",
    "\n",
    "- **cleaning non-interested Countries:** Used dropna() function to remove non-interested countries and stored them in df_interested.\n",
    "- **Plotting bar graph between Countries and Chat GPT interest** Used plot library within pandas library to plot bar graph\n",
    "- **Finding Value Counts and Mean** Used value_counts() function and mean() function to provide results\n",
    "\n",
    "### Results\n",
    "**The result is that China has enormously used and showed interest in Chat GPT than other countries over the period of 12 months.**\n",
    "\n"
   ]
  },
  {
   "cell_type": "code",
   "execution_count": 7,
   "metadata": {},
   "outputs": [],
   "source": [
    "#Libraries\n",
    "import pandas as pd\n",
    "import matplotlib.pyplot as plt\n",
    "%matplotlib inline"
   ]
  },
  {
   "cell_type": "code",
   "execution_count": 8,
   "metadata": {},
   "outputs": [
    {
     "data": {
      "text/html": [
       "<div>\n",
       "<style scoped>\n",
       "    .dataframe tbody tr th:only-of-type {\n",
       "        vertical-align: middle;\n",
       "    }\n",
       "\n",
       "    .dataframe tbody tr th {\n",
       "        vertical-align: top;\n",
       "    }\n",
       "\n",
       "    .dataframe thead th {\n",
       "        text-align: right;\n",
       "    }\n",
       "</style>\n",
       "<table border=\"1\" class=\"dataframe\">\n",
       "  <thead>\n",
       "    <tr style=\"text-align: right;\">\n",
       "      <th></th>\n",
       "      <th>Country</th>\n",
       "      <th>chatgpt: (29/09/2022 - 29/09/2023)</th>\n",
       "    </tr>\n",
       "  </thead>\n",
       "  <tbody>\n",
       "    <tr>\n",
       "      <th>0</th>\n",
       "      <td>China</td>\n",
       "      <td>100.0</td>\n",
       "    </tr>\n",
       "    <tr>\n",
       "      <th>1</th>\n",
       "      <td>Bhutan</td>\n",
       "      <td>NaN</td>\n",
       "    </tr>\n",
       "    <tr>\n",
       "      <th>2</th>\n",
       "      <td>Malawi</td>\n",
       "      <td>NaN</td>\n",
       "    </tr>\n",
       "    <tr>\n",
       "      <th>3</th>\n",
       "      <td>Nepal</td>\n",
       "      <td>31.0</td>\n",
       "    </tr>\n",
       "    <tr>\n",
       "      <th>4</th>\n",
       "      <td>Solomon Islands</td>\n",
       "      <td>NaN</td>\n",
       "    </tr>\n",
       "    <tr>\n",
       "      <th>...</th>\n",
       "      <td>...</td>\n",
       "      <td>...</td>\n",
       "    </tr>\n",
       "    <tr>\n",
       "      <th>245</th>\n",
       "      <td>South Georgia &amp; South Sandwich Islands</td>\n",
       "      <td>NaN</td>\n",
       "    </tr>\n",
       "    <tr>\n",
       "      <th>246</th>\n",
       "      <td>Tokelau</td>\n",
       "      <td>NaN</td>\n",
       "    </tr>\n",
       "    <tr>\n",
       "      <th>247</th>\n",
       "      <td>US Outlying Islands</td>\n",
       "      <td>NaN</td>\n",
       "    </tr>\n",
       "    <tr>\n",
       "      <th>248</th>\n",
       "      <td>Vatican City</td>\n",
       "      <td>NaN</td>\n",
       "    </tr>\n",
       "    <tr>\n",
       "      <th>249</th>\n",
       "      <td>Wallis &amp; Futuna</td>\n",
       "      <td>NaN</td>\n",
       "    </tr>\n",
       "  </tbody>\n",
       "</table>\n",
       "<p>250 rows × 2 columns</p>\n",
       "</div>"
      ],
      "text/plain": [
       "                                    Country  \\\n",
       "0                                     China   \n",
       "1                                    Bhutan   \n",
       "2                                    Malawi   \n",
       "3                                     Nepal   \n",
       "4                           Solomon Islands   \n",
       "..                                      ...   \n",
       "245  South Georgia & South Sandwich Islands   \n",
       "246                                 Tokelau   \n",
       "247                     US Outlying Islands   \n",
       "248                            Vatican City   \n",
       "249                         Wallis & Futuna   \n",
       "\n",
       "     chatgpt: (29/09/2022 - 29/09/2023)  \n",
       "0                                 100.0  \n",
       "1                                   NaN  \n",
       "2                                   NaN  \n",
       "3                                  31.0  \n",
       "4                                   NaN  \n",
       "..                                  ...  \n",
       "245                                 NaN  \n",
       "246                                 NaN  \n",
       "247                                 NaN  \n",
       "248                                 NaN  \n",
       "249                                 NaN  \n",
       "\n",
       "[250 rows x 2 columns]"
      ]
     },
     "execution_count": 8,
     "metadata": {},
     "output_type": "execute_result"
    }
   ],
   "source": [
    "#Retreiving data from dataset\n",
    "df = pd.read_csv('./geoMap.csv',skiprows = 1)\n",
    "df"
   ]
  },
  {
   "cell_type": "code",
   "execution_count": 9,
   "metadata": {},
   "outputs": [
    {
     "data": {
      "text/html": [
       "<div>\n",
       "<style scoped>\n",
       "    .dataframe tbody tr th:only-of-type {\n",
       "        vertical-align: middle;\n",
       "    }\n",
       "\n",
       "    .dataframe tbody tr th {\n",
       "        vertical-align: top;\n",
       "    }\n",
       "\n",
       "    .dataframe thead th {\n",
       "        text-align: right;\n",
       "    }\n",
       "</style>\n",
       "<table border=\"1\" class=\"dataframe\">\n",
       "  <thead>\n",
       "    <tr style=\"text-align: right;\">\n",
       "      <th></th>\n",
       "      <th>Country</th>\n",
       "      <th>chatgpt: (29/09/2022 - 29/09/2023)</th>\n",
       "    </tr>\n",
       "  </thead>\n",
       "  <tbody>\n",
       "    <tr>\n",
       "      <th>0</th>\n",
       "      <td>China</td>\n",
       "      <td>100.0</td>\n",
       "    </tr>\n",
       "    <tr>\n",
       "      <th>3</th>\n",
       "      <td>Nepal</td>\n",
       "      <td>31.0</td>\n",
       "    </tr>\n",
       "    <tr>\n",
       "      <th>5</th>\n",
       "      <td>Singapore</td>\n",
       "      <td>28.0</td>\n",
       "    </tr>\n",
       "    <tr>\n",
       "      <th>8</th>\n",
       "      <td>Philippines</td>\n",
       "      <td>26.0</td>\n",
       "    </tr>\n",
       "    <tr>\n",
       "      <th>9</th>\n",
       "      <td>Pakistan</td>\n",
       "      <td>26.0</td>\n",
       "    </tr>\n",
       "    <tr>\n",
       "      <th>...</th>\n",
       "      <td>...</td>\n",
       "      <td>...</td>\n",
       "    </tr>\n",
       "    <tr>\n",
       "      <th>210</th>\n",
       "      <td>Vietnam</td>\n",
       "      <td>3.0</td>\n",
       "    </tr>\n",
       "    <tr>\n",
       "      <th>211</th>\n",
       "      <td>Thailand</td>\n",
       "      <td>3.0</td>\n",
       "    </tr>\n",
       "    <tr>\n",
       "      <th>212</th>\n",
       "      <td>Saudi Arabia</td>\n",
       "      <td>3.0</td>\n",
       "    </tr>\n",
       "    <tr>\n",
       "      <th>220</th>\n",
       "      <td>Russia</td>\n",
       "      <td>2.0</td>\n",
       "    </tr>\n",
       "    <tr>\n",
       "      <th>222</th>\n",
       "      <td>Iran</td>\n",
       "      <td>2.0</td>\n",
       "    </tr>\n",
       "  </tbody>\n",
       "</table>\n",
       "<p>82 rows × 2 columns</p>\n",
       "</div>"
      ],
      "text/plain": [
       "          Country  chatgpt: (29/09/2022 - 29/09/2023)\n",
       "0           China                               100.0\n",
       "3           Nepal                                31.0\n",
       "5       Singapore                                28.0\n",
       "8     Philippines                                26.0\n",
       "9        Pakistan                                26.0\n",
       "..            ...                                 ...\n",
       "210       Vietnam                                 3.0\n",
       "211      Thailand                                 3.0\n",
       "212  Saudi Arabia                                 3.0\n",
       "220        Russia                                 2.0\n",
       "222          Iran                                 2.0\n",
       "\n",
       "[82 rows x 2 columns]"
      ]
     },
     "execution_count": 9,
     "metadata": {},
     "output_type": "execute_result"
    }
   ],
   "source": [
    "#Cleaning Non-interested Countries from the dataset\n",
    "df_interested = df.dropna()\n",
    "df_interested"
   ]
  },
  {
   "cell_type": "code",
   "execution_count": 10,
   "metadata": {},
   "outputs": [
    {
     "data": {
      "image/png": "[encoded data removed]",
      "text/plain": [
       "<Figure size 1500x600 with 1 Axes>"
      ]
     },
     "metadata": {},
     "output_type": "display_data"
    }
   ],
   "source": [
    "#Plotting Bar Graph Country / Interest\n",
    "df_interested.plot( figsize = (15,6) ,kind = 'bar' , x='Country' , y = 'chatgpt: (29/09/2022 - 29/09/2023)', xlabel = 'Countries' , ylabel='Interest' , label = 'Interest Of Chat GPT')\n",
    "\n",
    "#set parameters for tick labels\n",
    "plt.tick_params(axis='x', which='major', labelsize=6)\n",
    "\n",
    "plt.tight_layout()"
   ]
  },
  {
   "cell_type": "code",
   "execution_count": 11,
   "metadata": {},
   "outputs": [
    {
     "data": {
      "text/plain": [
       "chatgpt: (29/09/2022 - 29/09/2023)\n",
       "12.0     9\n",
       "5.0      8\n",
       "8.0      7\n",
       "16.0     6\n",
       "6.0      5\n",
       "9.0      5\n",
       "11.0     5\n",
       "18.0     4\n",
       "3.0      4\n",
       "15.0     4\n",
       "4.0      3\n",
       "26.0     3\n",
       "10.0     3\n",
       "17.0     2\n",
       "2.0      2\n",
       "7.0      2\n",
       "21.0     2\n",
       "31.0     1\n",
       "22.0     1\n",
       "28.0     1\n",
       "14.0     1\n",
       "20.0     1\n",
       "19.0     1\n",
       "13.0     1\n",
       "100.0    1\n",
       "dtype: int64"
      ]
     },
     "execution_count": 11,
     "metadata": {},
     "output_type": "execute_result"
    }
   ],
   "source": [
    "#Value_count =  12.0 interest is shared among 9 countries around the world.\n",
    "df_interested.value_counts('chatgpt: (29/09/2022 - 29/09/2023)')"
   ]
  },
  {
   "cell_type": "code",
   "execution_count": 12,
   "metadata": {},
   "outputs": [
    {
     "name": "stdout",
     "output_type": "stream",
     "text": [
      "The average interest among all the interested countries is chatgpt: (29/09/2022 - 29/09/2023)    12.621951\n",
      "dtype: float64\n"
     ]
    },
    {
     "name": "stderr",
     "output_type": "stream",
     "text": [
      "C:\\Users\\Aniketh Rai\\AppData\\Local\\Temp\\ipykernel_43964\\1467247177.py:2: FutureWarning: The default value of numeric_only in DataFrame.mean is deprecated. In a future version, it will default to False. In addition, specifying 'numeric_only=None' is deprecated. Select only valid columns or specify the value of numeric_only to silence this warning.\n",
      "  x = df_interested.mean()\n"
     ]
    }
   ],
   "source": [
    "#The average interest among all the interested countries.\n",
    "x = df_interested.mean()\n",
    "print(f'The average interest among all the interested countries is {x}')"
   ]
  }
 ],
 "metadata": {
  "kernelspec": {
   "display_name": "Python 3",
   "language": "python",
   "name": "python3"
  },
  "language_info": {
   "codemirror_mode": {
    "name": "ipython",
    "version": 3
   },
   "file_extension": ".py",
   "mimetype": "text/x-python",
   "name": "python",
   "nbconvert_exporter": "python",
   "pygments_lexer": "ipython3",
   "version": "3.10.1"
  },
  "orig_nbformat": 4
 },
 "nbformat": 4,
 "nbformat_minor": 2
}
